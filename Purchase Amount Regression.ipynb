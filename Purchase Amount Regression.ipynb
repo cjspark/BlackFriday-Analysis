{
 "cells": [
  {
   "cell_type": "markdown",
   "metadata": {},
   "source": [
    "# Regression Task -- The Amount of Purchase\n",
    "\n",
    "Shuxin Mao\n",
    "\n",
    "Data Stet: https://www.kaggle.com/mehdidag/black-friday\n",
    "\n",
    "Load and Analysis Data:\n",
    "* [Import the diabetes data set](#Import-the-diabetes-data-set)\n",
    "* [Analyze the diabetes data set](#Analyze-the-diabetes-data-set)\n",
    "\n",
    "Develop, Train and Analysis Different Regressiors' Perfomance:\n",
    "* [Pre-process the data](#Pre-process-the-data)\n",
    "* [Taining and Perfomance](#Tainin-and-Perfomance)\n",
    "\n",
    "Imrove Regressiors' Perfomance:\n",
    "* [Search Better Parameters](#Search-Better-Parameters)\n",
    "* [Taining and Perfomance](#Tainin-and-Perfomance)"
   ]
  },
  {
   "cell_type": "markdown",
   "metadata": {},
   "source": [
    "## Summary\n",
    "\n",
    "Load and Analysis Data:\n",
    "    The data has some missing feature values and object feature, so data pre-process part needs to encode the obejct value and then fill nan value. At last, only choose high relatted features as input features. Also train data and test data are splitted in this part.\n",
    "\n",
    "Develop, Train and Analysis Regression Perfomance:\n",
    "    Fitting trainning data into four regressors(Linear regression, Random Forest Regression, Neural Network and Gradient Boosting Regresion), then added L1 and L2 regulatization into these regressors. Using RMSE as error calculation and analysising regressors' perfomence by plotting learning curves.At last, using test data to compare differentregressorss' predic result."
   ]
  },
  {
   "cell_type": "code",
   "execution_count": 13,
   "metadata": {
    "colab": {},
    "colab_type": "code",
    "collapsed": true,
    "id": "NpKQfDBsbTAl"
   },
   "outputs": [],
   "source": [
    "# Required Modules\n",
    "import tensorflow as tf\n",
    "import pandas as pd\n",
    "import re\n",
    "import os\n",
    "import numpy as np\n",
    "\n",
    "import matplotlib.image as mpimg\n",
    "import matplotlib.pyplot as plt\n",
    "%matplotlib inline\n",
    "\n",
    "from sklearn import datasets\n",
    "from sklearn.preprocessing import MinMaxScaler,LabelEncoder\n",
    "from sklearn.model_selection import train_test_split\n",
    "from sklearn.base import BaseEstimator, TransformerMixin\n",
    "from sklearn.preprocessing import StandardScaler\n",
    "from sklearn.pipeline import Pipeline\n",
    "from sklearn.impute import SimpleImputer\n",
    "from sklearn.ensemble import RandomForestRegressor,GradientBoostingRegressor\n",
    "from sklearn.metrics import mean_squared_error, r2_score,mean_absolute_error\n",
    "from sklearn.neural_network import MLPRegressor\n",
    "from sklearn.model_selection import learning_curve\n",
    "from sklearn.linear_model import Lasso"
   ]
  },
  {
   "cell_type": "markdown",
   "metadata": {},
   "source": [
    "## Import the diabetes data set"
   ]
  },
  {
   "cell_type": "code",
   "execution_count": 2,
   "metadata": {
    "collapsed": true
   },
   "outputs": [],
   "source": [
    "data = pd.read_csv('./data/BlackFriday.csv')"
   ]
  },
  {
   "cell_type": "markdown",
   "metadata": {},
   "source": [
    "## Analyze the diabetes data set\n",
    "including:\n",
    "*\tOutput the type of the data.\n",
    "*\tImplement a scatter matrix to determine if any features strongly correlate."
   ]
  },
  {
   "cell_type": "code",
   "execution_count": 3,
   "metadata": {
    "collapsed": true
   },
   "outputs": [],
   "source": [
    "class StringToOneHot(BaseEstimator, TransformerMixin):\n",
    "    def __init__(self, s):\n",
    "        self.s = s\n",
    "        \n",
    "    def fit(self, X, y=None):\n",
    "        return self\n",
    "    \n",
    "    def transform(self, X):\n",
    "        for i in self.s:\n",
    "            encoder = LabelEncoder()\n",
    "            X[i] = encoder.fit_transform(X[i]) \n",
    "        return X"
   ]
  },
  {
   "cell_type": "code",
   "execution_count": 4,
   "metadata": {
    "collapsed": true
   },
   "outputs": [],
   "source": [
    "data_pd = data.copy()"
   ]
  },
  {
   "cell_type": "code",
   "execution_count": 5,
   "metadata": {
    "collapsed": true
   },
   "outputs": [],
   "source": [
    "s1 = ['Product_ID','Gender','Age','City_Category','Stay_In_Current_City_Years']\n",
    "onehot = StringToOneHot(s1)\n",
    "data_pd = onehot.transform(data_pd)"
   ]
  },
  {
   "cell_type": "code",
   "execution_count": 6,
   "metadata": {},
   "outputs": [
    {
     "data": {
      "text/plain": [
       "Purchase                      1.000000\n",
       "City_Category                 0.068507\n",
       "Gender                        0.060086\n",
       "Occupation                    0.021104\n",
       "Age                           0.017717\n",
       "Stay_In_Current_City_Years    0.005470\n",
       "User_ID                       0.005389\n",
       "Marital_Status                0.000129\n",
       "Product_Category_3           -0.022257\n",
       "Product_ID                   -0.086541\n",
       "Product_Category_2           -0.209973\n",
       "Product_Category_1           -0.314125\n",
       "Name: Purchase, dtype: float64"
      ]
     },
     "execution_count": 6,
     "metadata": {},
     "output_type": "execute_result"
    }
   ],
   "source": [
    "corr_matrix = data_pd.corr()\n",
    "corr_matrix['Purchase'].sort_values(ascending=False)"
   ]
  },
  {
   "cell_type": "markdown",
   "metadata": {},
   "source": [
    "# Pre-process the data"
   ]
  },
  {
   "cell_type": "code",
   "execution_count": 7,
   "metadata": {
    "collapsed": true
   },
   "outputs": [],
   "source": [
    "class DataFrameSelector(BaseEstimator, TransformerMixin):\n",
    "    \n",
    "    def __init__(self, attributes):\n",
    "        self.attributes = attributes\n",
    "    \n",
    "    def fit(self, X, y=None):\n",
    "        return self\n",
    "    \n",
    "    def transform(self, X):\n",
    "        return X[self.attributes]"
   ]
  },
  {
   "cell_type": "code",
   "execution_count": null,
   "metadata": {
    "collapsed": true
   },
   "outputs": [],
   "source": [
    "train_set, test_set = train_test_split(data, test_size=0.2, random_state=42)\n",
    "\n",
    "s0 = ['Gender','Age','City_Category','Stay_In_Current_City_Years','Occupation','User_ID','Marital_Status']\n",
    "s1 = ['Gender','Age','City_Category','Stay_In_Current_City_Years']\n",
    "\n",
    "preprocessing_pipe = Pipeline([\n",
    "    #('attribs_adder', CombinedAttributesAdder()),  \n",
    "    ('Drop', DataFrameSelector(s0)), # Selects Fields from dataframe\n",
    "    ('OneHot', StringToOneHot(s1)),\n",
    "    ('Imputer', SimpleImputer(strategy='constant')), # Fill in NaN with most frequent    \n",
    "    ('std_scaler', StandardScaler()),\n",
    "    ])\n",
    "train_x = preprocessing_pipe.fit_transform(train_set)\n",
    "test_x = preprocessing_pipe.fit_transform(test_set)\n",
    "train_y = train_set.Purchase.values\n",
    "test_y = test_set.Purchase.values"
   ]
  },
  {
   "cell_type": "code",
   "execution_count": 9,
   "metadata": {
    "collapsed": true
   },
   "outputs": [],
   "source": [
    "X_train,X_val,y_train,y_val = train_test_split(train_x,train_y, test_size=0.2, random_state=42)"
   ]
  },
  {
   "cell_type": "code",
   "execution_count": 10,
   "metadata": {},
   "outputs": [
    {
     "data": {
      "text/plain": [
       "430061"
      ]
     },
     "execution_count": 10,
     "metadata": {},
     "output_type": "execute_result"
    }
   ],
   "source": [
    "train_y.shape[0]"
   ]
  },
  {
   "cell_type": "markdown",
   "metadata": {
    "collapsed": true
   },
   "source": [
    "# Taining and Perfomance"
   ]
  },
  {
   "cell_type": "markdown",
   "metadata": {},
   "source": [
    "Linear Regression with Lass regularization"
   ]
  },
  {
   "cell_type": "code",
   "execution_count": 11,
   "metadata": {
    "collapsed": true
   },
   "outputs": [],
   "source": [
    "x = train_x.shape[0]*0.8\n",
    "train_sizes =[i*10000+1 for i in range(int(x//10000))]\n",
    "train_sizes[-1] = int(x)-1"
   ]
  },
  {
   "cell_type": "code",
   "execution_count": 14,
   "metadata": {},
   "outputs": [
    {
     "data": {
      "image/png": "[encoded data removed]",
      "text/plain": [
       "<Figure size 432x288 with 1 Axes>"
      ]
     },
     "metadata": {},
     "output_type": "display_data"
    }
   ],
   "source": [
    "train_sizes,train_scores,validation_scores = learning_curve(Lasso(alpha=.3),\n",
    "                                                            train_x,train_y,train_sizes = train_sizes,\n",
    "                                                            cv=5,scoring='neg_mean_squared_error')\n",
    "train_scores_mean = -train_scores.mean(axis=1)\n",
    "val_scores_mean = -validation_scores.mean(axis=1)\n",
    "plt.plot(train_sizes,train_scores_mean,label='Training Error')\n",
    "plt.plot(train_sizes,val_scores_mean,label='Validation Error')\n",
    "\n",
    "plt.ylabel('MSE')\n",
    "plt.xlabel('Training Set Size')\n",
    "plt.title('Learning curves of Linear Regression with Lasso')\n",
    "plt.legend(loc = 'lower right')\n",
    "plt.savefig('lasso_learning')"
   ]
  },
  {
   "cell_type": "code",
   "execution_count": 15,
   "metadata": {
    "collapsed": true
   },
   "outputs": [],
   "source": [
    "lr_train,lr_val = np.sqrt(train_scores_mean[-1]),np.sqrt(val_scores_mean[-1])"
   ]
  },
  {
   "cell_type": "markdown",
   "metadata": {},
   "source": [
    "Random Forest Regression"
   ]
  },
  {
   "cell_type": "code",
   "execution_count": null,
   "metadata": {
    "collapsed": true
   },
   "outputs": [],
   "source": [
    "train_sizes,train_scores,validation_scores = learning_curve(RandomForestRegressor(max_leaf_nodes =350),\n",
    "                                                            train_x,train_y,train_sizes = train_sizes,\n",
    "                                                            cv=5,scoring='neg_mean_squared_error')\n",
    "\n",
    "train_scores_mean = -train_scores.mean(axis=1)\n",
    "val_scores_mean = -validation_scores.mean(axis=1)"
   ]
  },
  {
   "cell_type": "code",
   "execution_count": 18,
   "metadata": {
    "scrolled": true
   },
   "outputs": [
    {
     "data": {
      "image/png": "[encoded data removed]",
      "text/plain": [
       "<Figure size 432x288 with 1 Axes>"
      ]
     },
     "metadata": {},
     "output_type": "display_data"
    }
   ],
   "source": [
    "plt.plot(train_sizes,train_scores_mean,label='Training Error')\n",
    "plt.plot(train_sizes,val_scores_mean,label='Validation Error')\n",
    "\n",
    "plt.ylabel('MSE')\n",
    "plt.xlabel('Training Set Size')\n",
    "plt.title('Learning curves of RandomForest')\n",
    "plt.legend(loc = 'lower right')\n",
    "plt.savefig('randomforest_learning')"
   ]
  },
  {
   "cell_type": "code",
   "execution_count": null,
   "metadata": {
    "collapsed": true
   },
   "outputs": [],
   "source": [
    "rf_train,rf_val = np.sqrt(train_scores_mean[-1]),np.sqrt(val_scores_mean[-1])"
   ]
  },
  {
   "cell_type": "markdown",
   "metadata": {},
   "source": [
    "Neural Network"
   ]
  },
  {
   "cell_type": "code",
   "execution_count": 24,
   "metadata": {
    "collapsed": true
   },
   "outputs": [],
   "source": [
    "x = 100000*0.8\n",
    "train_sizes =[i*5000+1 for i in range(int(x//5000))]\n",
    "train_sizes[-1] = int(x)-1\n",
    "\n",
    "\n",
    "mlp = MLPRegressor(solver='lbfgs', hidden_layer_sizes=(5), random_state=1)\n",
    "\n",
    "train_sizes,train_scores,validation_scores = learning_curve(mlp,\n",
    "                                                            train_x[:100000],train_y[:100000],train_sizes = train_sizes,\n",
    "                                                            cv=5,scoring='neg_mean_squared_error')"
   ]
  },
  {
   "cell_type": "code",
   "execution_count": 25,
   "metadata": {
    "scrolled": true
   },
   "outputs": [
    {
     "data": {
      "image/png": "[encoded data removed]",
      "text/plain": [
       "<Figure size 432x288 with 1 Axes>"
      ]
     },
     "metadata": {},
     "output_type": "display_data"
    }
   ],
   "source": [
    "train_scores_mean = -train_scores.mean(axis=1)\n",
    "val_scores_mean = -validation_scores.mean(axis=1)\n",
    "plt.plot(train_sizes,train_scores_mean,label='Training Error')\n",
    "plt.plot(train_sizes,val_scores_mean,label='Validation Error')\n",
    "\n",
    "plt.ylabel('MSE')\n",
    "plt.xlabel('Training Set Size')\n",
    "plt.title('Learning curves of Netural Network with L2')\n",
    "plt.legend(loc = 'lower right')\n",
    "plt.axis([0,30000,0,3*(10**7)])\n",
    "plt.savefig('nn_learning')\n"
   ]
  },
  {
   "cell_type": "code",
   "execution_count": 27,
   "metadata": {
    "scrolled": true
   },
   "outputs": [
    {
     "data": {
      "text/plain": [
       "(4945.725676335926, 4946.9484963209)"
      ]
     },
     "execution_count": 27,
     "metadata": {},
     "output_type": "execute_result"
    }
   ],
   "source": [
    "nn_train, nn_val = np.sqrt(train_scores_mean[-1]),np.sqrt(val_scores_mean[-1])"
   ]
  },
  {
   "cell_type": "markdown",
   "metadata": {},
   "source": [
    "Gradient Boosting Regression"
   ]
  },
  {
   "cell_type": "code",
   "execution_count": 46,
   "metadata": {
    "collapsed": true
   },
   "outputs": [],
   "source": [
    "x = 100000*0.8\n",
    "train_sizes =[i*5000+1 for i in range(int(x//5000))]\n",
    "train_sizes[-1] = int(x)-1\n",
    "\n",
    "\n",
    "gbr = GradientBoostingRegressor()\n",
    "\n",
    "train_sizes,train_scores,validation_scores = learning_curve(gbr,\n",
    "                                                            train_x[:100000],train_y[:100000],train_sizes = train_sizes,\n",
    "                                                            cv=5,scoring='neg_mean_squared_error')"
   ]
  },
  {
   "cell_type": "code",
   "execution_count": 47,
   "metadata": {},
   "outputs": [
    {
     "data": {
      "image/png": "[encoded data removed]",
      "text/plain": [
       "<Figure size 432x288 with 1 Axes>"
      ]
     },
     "metadata": {},
     "output_type": "display_data"
    }
   ],
   "source": [
    "train_scores_mean = -train_scores.mean(axis=1)\n",
    "val_scores_mean = -validation_scores.mean(axis=1)\n",
    "plt.plot(train_sizes,train_scores_mean,label='Training Error')\n",
    "plt.plot(train_sizes,val_scores_mean,label='Validation Error')\n",
    "\n",
    "plt.ylabel('MSE')\n",
    "plt.xlabel('Training Set Size')\n",
    "plt.title('Learning curves of Gradient Boosting')\n",
    "plt.legend(loc = 'lower right')\n",
    "plt.axis([0,30000,0,3*(10**7)])\n",
    "plt.savefig('gbr_learning')"
   ]
  },
  {
   "cell_type": "code",
   "execution_count": 48,
   "metadata": {},
   "outputs": [
    {
     "data": {
      "text/plain": [
       "(4912.283837488307, 4926.329240624049)"
      ]
     },
     "execution_count": 48,
     "metadata": {},
     "output_type": "execute_result"
    }
   ],
   "source": [
    "gb_train, gb_val = np.sqrt(train_scores_mean[-1]),np.sqrt(val_scores_mean[-1])"
   ]
  },
  {
   "cell_type": "markdown",
   "metadata": {
    "collapsed": true
   },
   "source": [
    "## Analyze the diabetes data set"
   ]
  },
  {
   "cell_type": "code",
   "execution_count": 49,
   "metadata": {
    "collapsed": true
   },
   "outputs": [],
   "source": [
    "train_errors = [lr_train, rf_train, nn_train, gb_train]\n",
    "val_erros = [lr_val, rf_val, bb_val, gb_val]"
   ]
  },
  {
   "cell_type": "code",
   "execution_count": 21,
   "metadata": {},
   "outputs": [
    {
     "data": {
      "image/png": "[encoded data removed]",
      "text/plain": [
       "<Figure size 432x288 with 1 Axes>"
      ]
     },
     "metadata": {},
     "output_type": "display_data"
    }
   ],
   "source": [
    "x=np.arange(4)\n",
    "\n",
    "#plt.bar(x,train_errors,facecolor='#9999ff',edgecolor='white')\n",
    "#rects1 = plt.bar(left=x, height=num_list1, width=0.4, alpha=0.8, color='red', label=\"一部门\")\n",
    "rects1 = plt.bar(x,train_errors, alpha=0.9, width = 0.35, facecolor = 'lightskyblue', edgecolor = 'white', label='Train', lw=1)\n",
    "rects2 = plt.bar(x+0.35,val_erros, alpha=0.9, width = 0.35, facecolor = 'yellowgreen', edgecolor = 'white', label='Validation', lw=1)\n",
    "plt.ylim(4500, 5500)     \n",
    "plt.ylabel('RMSE')\n",
    "\n",
    "plt.xticks(x+0.125, ['Linear','RandomForest','NeuralNetwork','GradientBoosting'])\n",
    "plt.xlabel('Model')\n",
    "plt.legend() \n",
    "\n",
    "for rect in rects1:\n",
    "    height = rect.get_height()\n",
    "    plt.text(rect.get_x() + rect.get_width() / 2, height+1, str(height), ha=\"center\", va=\"bottom\")\n",
    "for rect in rects2:\n",
    "    height = rect.get_height()\n",
    "    plt.text(rect.get_x() + rect.get_width() / 2, height+1, str(height), ha=\"center\", va=\"bottom\")\n",
    "plt.savefig('compare_models')\n",
    "plt.show()\n"
   ]
  },
  {
   "cell_type": "markdown",
   "metadata": {},
   "source": [
    "## Search Better Parameters"
   ]
  },
  {
   "cell_type": "code",
   "execution_count": 55,
   "metadata": {
    "scrolled": true
   },
   "outputs": [
    {
     "name": "stderr",
     "output_type": "stream",
     "text": [
      "D:\\Anaconda3\\lib\\site-packages\\sklearn\\model_selection\\_split.py:2053: FutureWarning: You should specify a value for 'cv' instead of relying on the default value. The default value will change from 3 to 5 in version 0.22.\n",
      "  warnings.warn(CV_WARNING, FutureWarning)\n"
     ]
    },
    {
     "name": "stdout",
     "output_type": "stream",
     "text": [
      "Best paramters： {'max_depth': 13, 'min_samples_split': 50, 'n_estimators': 60}\n"
     ]
    }
   ],
   "source": [
    "model = RandomForestRegressor()\n",
    "param_grid = {'n_estimators':range(10,71,10),\n",
    "              'max_depth':range(3,14,2), \n",
    "              'min_samples_split': range(50,201,20),}\n",
    "\n",
    "from sklearn.model_selection import GridSearchCV\n",
    "estimator = GridSearchCV(model,param_grid )\n",
    "estimator.fit(train_x[:30000],train_y[:30000])\n",
    "print('Best paramters：',estimator.best_params_)\n"
   ]
  },
  {
   "cell_type": "markdown",
   "metadata": {},
   "source": [
    "## Taining and Perfomance"
   ]
  },
  {
   "cell_type": "code",
   "execution_count": 56,
   "metadata": {
    "collapsed": true
   },
   "outputs": [],
   "source": [
    "x = train_x.shape[0]*0.8\n",
    "train_sizes =[i*10000+1 for i in range(int(x//10000))]\n",
    "train_sizes[-1] = int(x)-1\n",
    "\n",
    "train_sizes,train_scores,validation_scores = learning_curve(RandomForestRegressor(max_depth=13, min_samples_split=50, n_estimators=60),\n",
    "                                                            train_x,train_y,train_sizes = train_sizes,\n",
    "                                                            cv=5,scoring='neg_mean_squared_error')"
   ]
  },
  {
   "cell_type": "code",
   "execution_count": 57,
   "metadata": {},
   "outputs": [
    {
     "data": {
      "text/plain": [
       "(4791.225716569768, 4823.73218335804)"
      ]
     },
     "execution_count": 57,
     "metadata": {},
     "output_type": "execute_result"
    },
    {
     "data": {
      "image/png": "[encoded data removed]",
      "text/plain": [
       "<Figure size 432x288 with 1 Axes>"
      ]
     },
     "metadata": {},
     "output_type": "display_data"
    }
   ],
   "source": [
    "train_scores_mean = -train_scores.mean(axis=1)\n",
    "val_scores_mean = -validation_scores.mean(axis=1)\n",
    "plt.plot(train_sizes,train_scores_mean,label='Training Error')\n",
    "plt.plot(train_sizes,val_scores_mean,label='Validation Error')\n",
    "\n",
    "plt.ylabel('MSE')\n",
    "plt.xlabel('Training Set Size')\n",
    "plt.title('Learning curves of RandomForest')\n",
    "plt.legend(loc = 'lower right')\n",
    "plt.savefig('RF_best')\n",
    "np.sqrt(train_scores_mean[-1]),np.sqrt(val_scores_mean[-1])"
   ]
  },
  {
   "cell_type": "code",
   "execution_count": 58,
   "metadata": {},
   "outputs": [
    {
     "data": {
      "image/png": "[encoded data removed]",
      "text/plain": [
       "<Figure size 432x288 with 1 Axes>"
      ]
     },
     "metadata": {},
     "output_type": "display_data"
    }
   ],
   "source": [
    "train_errors = [4959,4829,4791]\n",
    "val_erros = [4959,4849,4824]\n",
    "\n",
    "x=np.arange(3)\n",
    "\n",
    "#plt.bar(x,train_errors,facecolor='#9999ff',edgecolor='white')\n",
    "#rects1 = plt.bar(left=x, height=num_list1, width=0.4, alpha=0.8, color='red', label=\"一部门\")\n",
    "rects1 = plt.bar(x,train_errors, alpha=0.9, width = 0.35, facecolor = 'lightskyblue', edgecolor = 'white', label='Train', lw=1)\n",
    "rects2 = plt.bar(x+0.35,val_erros, alpha=0.9, width = 0.35, facecolor = 'yellowgreen', edgecolor = 'white', label='Validation', lw=1)\n",
    "plt.ylim(4500, 5500)     \n",
    "plt.ylabel('RMSE')\n",
    "\n",
    "plt.xticks(x+0.125, ['Baseline','Original_RF','Improved_RF'])\n",
    "plt.xlabel('Model')\n",
    "plt.legend() \n",
    "\n",
    "for rect in rects1:\n",
    "    height = rect.get_height()\n",
    "    plt.text(rect.get_x() + rect.get_width() / 2, height+1, str(height), ha=\"center\", va=\"bottom\")\n",
    "for rect in rects2:\n",
    "    height = rect.get_height()\n",
    "    plt.text(rect.get_x() + rect.get_width() / 2, height+1, str(height), ha=\"center\", va=\"bottom\")\n",
    "plt.savefig('compare_models')\n",
    "plt.show()"
   ]
  },
  {
   "cell_type": "code",
   "execution_count": null,
   "metadata": {
    "collapsed": true
   },
   "outputs": [],
   "source": []
  }
 ],
 "metadata": {
  "accelerator": "TPU",
  "colab": {
   "collapsed_sections": [],
   "name": "cs455-595-hw4-notebook",
   "provenance": [],
   "version": "0.3.2"
  },
  "kernelspec": {
   "display_name": "Python 3",
   "language": "python",
   "name": "python3"
  },
  "language_info": {
   "codemirror_mode": {
    "name": "ipython",
    "version": 3
   },
   "file_extension": ".py",
   "mimetype": "text/x-python",
   "name": "python",
   "nbconvert_exporter": "python",
   "pygments_lexer": "ipython3",
   "version": "3.6.8"
  }
 },
 "nbformat": 4,
 "nbformat_minor": 1
}
